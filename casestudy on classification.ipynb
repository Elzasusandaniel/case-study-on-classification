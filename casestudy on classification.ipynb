{
 "cells": [
  {
   "cell_type": "code",
   "execution_count": 1,
   "id": "f7a6e255",
   "metadata": {},
   "outputs": [],
   "source": [
    "#importing the libraries\n",
    "import numpy as np\n",
    "import pandas as pd\n",
    "import matplotlib.pyplot as plt\n",
    "import seaborn as sns"
   ]
  },
  {
   "cell_type": "code",
   "execution_count": 2,
   "id": "e9d17e22",
   "metadata": {},
   "outputs": [],
   "source": [
    "#Read the dataset to python environment\n",
    "data=pd.read_csv('loan_dataset.csv')"
   ]
  },
  {
   "cell_type": "code",
   "execution_count": 3,
   "id": "19a2e596",
   "metadata": {},
   "outputs": [
    {
     "data": {
      "text/html": [
       "<div>\n",
       "<style scoped>\n",
       "    .dataframe tbody tr th:only-of-type {\n",
       "        vertical-align: middle;\n",
       "    }\n",
       "\n",
       "    .dataframe tbody tr th {\n",
       "        vertical-align: top;\n",
       "    }\n",
       "\n",
       "    .dataframe thead th {\n",
       "        text-align: right;\n",
       "    }\n",
       "</style>\n",
       "<table border=\"1\" class=\"dataframe\">\n",
       "  <thead>\n",
       "    <tr style=\"text-align: right;\">\n",
       "      <th></th>\n",
       "      <th>loan_id</th>\n",
       "      <th>source</th>\n",
       "      <th>financial_institution</th>\n",
       "      <th>interest_rate</th>\n",
       "      <th>unpaid_principal_bal</th>\n",
       "      <th>loan_term</th>\n",
       "      <th>origination_date</th>\n",
       "      <th>first_payment_date</th>\n",
       "      <th>loan_to_value</th>\n",
       "      <th>number_of_borrowers</th>\n",
       "      <th>...</th>\n",
       "      <th>m4</th>\n",
       "      <th>m5</th>\n",
       "      <th>m6</th>\n",
       "      <th>m7</th>\n",
       "      <th>m8</th>\n",
       "      <th>m9</th>\n",
       "      <th>m10</th>\n",
       "      <th>m11</th>\n",
       "      <th>m12</th>\n",
       "      <th>m13</th>\n",
       "    </tr>\n",
       "  </thead>\n",
       "  <tbody>\n",
       "    <tr>\n",
       "      <th>0</th>\n",
       "      <td>268055008619</td>\n",
       "      <td>Z</td>\n",
       "      <td>Turner, Baldwin and Rhodes</td>\n",
       "      <td>4.250</td>\n",
       "      <td>214000</td>\n",
       "      <td>360</td>\n",
       "      <td>2012-03-01</td>\n",
       "      <td>05/2012</td>\n",
       "      <td>95</td>\n",
       "      <td>1.0</td>\n",
       "      <td>...</td>\n",
       "      <td>0</td>\n",
       "      <td>0</td>\n",
       "      <td>0</td>\n",
       "      <td>1</td>\n",
       "      <td>0</td>\n",
       "      <td>0</td>\n",
       "      <td>0</td>\n",
       "      <td>0</td>\n",
       "      <td>0</td>\n",
       "      <td>1</td>\n",
       "    </tr>\n",
       "    <tr>\n",
       "      <th>1</th>\n",
       "      <td>672831657627</td>\n",
       "      <td>Y</td>\n",
       "      <td>Swanson, Newton and Miller</td>\n",
       "      <td>4.875</td>\n",
       "      <td>144000</td>\n",
       "      <td>360</td>\n",
       "      <td>2012-01-01</td>\n",
       "      <td>03/2012</td>\n",
       "      <td>72</td>\n",
       "      <td>1.0</td>\n",
       "      <td>...</td>\n",
       "      <td>0</td>\n",
       "      <td>0</td>\n",
       "      <td>0</td>\n",
       "      <td>0</td>\n",
       "      <td>0</td>\n",
       "      <td>0</td>\n",
       "      <td>0</td>\n",
       "      <td>1</td>\n",
       "      <td>0</td>\n",
       "      <td>1</td>\n",
       "    </tr>\n",
       "    <tr>\n",
       "      <th>2</th>\n",
       "      <td>742515242108</td>\n",
       "      <td>Z</td>\n",
       "      <td>Thornton-Davis</td>\n",
       "      <td>3.250</td>\n",
       "      <td>366000</td>\n",
       "      <td>180</td>\n",
       "      <td>2012-01-01</td>\n",
       "      <td>03/2012</td>\n",
       "      <td>49</td>\n",
       "      <td>1.0</td>\n",
       "      <td>...</td>\n",
       "      <td>0</td>\n",
       "      <td>0</td>\n",
       "      <td>0</td>\n",
       "      <td>0</td>\n",
       "      <td>0</td>\n",
       "      <td>0</td>\n",
       "      <td>0</td>\n",
       "      <td>0</td>\n",
       "      <td>0</td>\n",
       "      <td>1</td>\n",
       "    </tr>\n",
       "    <tr>\n",
       "      <th>3</th>\n",
       "      <td>601385667462</td>\n",
       "      <td>X</td>\n",
       "      <td>OTHER</td>\n",
       "      <td>4.750</td>\n",
       "      <td>135000</td>\n",
       "      <td>360</td>\n",
       "      <td>2012-02-01</td>\n",
       "      <td>04/2012</td>\n",
       "      <td>46</td>\n",
       "      <td>2.0</td>\n",
       "      <td>...</td>\n",
       "      <td>0</td>\n",
       "      <td>0</td>\n",
       "      <td>0</td>\n",
       "      <td>0</td>\n",
       "      <td>0</td>\n",
       "      <td>1</td>\n",
       "      <td>1</td>\n",
       "      <td>1</td>\n",
       "      <td>1</td>\n",
       "      <td>1</td>\n",
       "    </tr>\n",
       "    <tr>\n",
       "      <th>4</th>\n",
       "      <td>273870029961</td>\n",
       "      <td>X</td>\n",
       "      <td>OTHER</td>\n",
       "      <td>4.750</td>\n",
       "      <td>124000</td>\n",
       "      <td>360</td>\n",
       "      <td>2012-02-01</td>\n",
       "      <td>04/2012</td>\n",
       "      <td>80</td>\n",
       "      <td>1.0</td>\n",
       "      <td>...</td>\n",
       "      <td>3</td>\n",
       "      <td>4</td>\n",
       "      <td>5</td>\n",
       "      <td>6</td>\n",
       "      <td>7</td>\n",
       "      <td>8</td>\n",
       "      <td>9</td>\n",
       "      <td>10</td>\n",
       "      <td>11</td>\n",
       "      <td>1</td>\n",
       "    </tr>\n",
       "  </tbody>\n",
       "</table>\n",
       "<p>5 rows × 29 columns</p>\n",
       "</div>"
      ],
      "text/plain": [
       "        loan_id source       financial_institution  interest_rate  \\\n",
       "0  268055008619      Z  Turner, Baldwin and Rhodes          4.250   \n",
       "1  672831657627      Y  Swanson, Newton and Miller          4.875   \n",
       "2  742515242108      Z              Thornton-Davis          3.250   \n",
       "3  601385667462      X                       OTHER          4.750   \n",
       "4  273870029961      X                       OTHER          4.750   \n",
       "\n",
       "   unpaid_principal_bal  loan_term origination_date first_payment_date  \\\n",
       "0                214000        360       2012-03-01            05/2012   \n",
       "1                144000        360       2012-01-01            03/2012   \n",
       "2                366000        180       2012-01-01            03/2012   \n",
       "3                135000        360       2012-02-01            04/2012   \n",
       "4                124000        360       2012-02-01            04/2012   \n",
       "\n",
       "   loan_to_value  number_of_borrowers  ...  m4  m5 m6  m7  m8  m9  m10  m11  \\\n",
       "0             95                  1.0  ...   0   0  0   1   0   0    0    0   \n",
       "1             72                  1.0  ...   0   0  0   0   0   0    0    1   \n",
       "2             49                  1.0  ...   0   0  0   0   0   0    0    0   \n",
       "3             46                  2.0  ...   0   0  0   0   0   1    1    1   \n",
       "4             80                  1.0  ...   3   4  5   6   7   8    9   10   \n",
       "\n",
       "   m12  m13  \n",
       "0    0    1  \n",
       "1    0    1  \n",
       "2    0    1  \n",
       "3    1    1  \n",
       "4   11    1  \n",
       "\n",
       "[5 rows x 29 columns]"
      ]
     },
     "execution_count": 3,
     "metadata": {},
     "output_type": "execute_result"
    }
   ],
   "source": [
    "data.head()"
   ]
  },
  {
   "cell_type": "code",
   "execution_count": 4,
   "id": "84f68dde",
   "metadata": {},
   "outputs": [
    {
     "data": {
      "text/plain": [
       "(116058, 29)"
      ]
     },
     "execution_count": 4,
     "metadata": {},
     "output_type": "execute_result"
    }
   ],
   "source": [
    "# Checking the number of rows and columns\n",
    "data.shape"
   ]
  },
  {
   "cell_type": "code",
   "execution_count": 5,
   "id": "62f091ee",
   "metadata": {},
   "outputs": [
    {
     "data": {
      "text/plain": [
       "loan_id                     116058\n",
       "source                           3\n",
       "financial_institution           19\n",
       "interest_rate                  923\n",
       "unpaid_principal_bal           646\n",
       "loan_term                      140\n",
       "origination_date                 3\n",
       "first_payment_date               4\n",
       "loan_to_value                   92\n",
       "number_of_borrowers              2\n",
       "debt_to_income_ratio            58\n",
       "borrower_credit_score          221\n",
       "loan_purpose                     3\n",
       "insurance_percent               14\n",
       "co-borrower_credit_score       216\n",
       "insurance_type                   2\n",
       "m1                               4\n",
       "m2                               5\n",
       "m3                               6\n",
       "m4                               7\n",
       "m5                               8\n",
       "m6                               9\n",
       "m7                              10\n",
       "m8                              10\n",
       "m9                              11\n",
       "m10                             12\n",
       "m11                             13\n",
       "m12                             13\n",
       "m13                              2\n",
       "dtype: int64"
      ]
     },
     "execution_count": 5,
     "metadata": {},
     "output_type": "execute_result"
    }
   ],
   "source": [
    "#Checking for unique values in each column\n",
    "data.nunique()"
   ]
  },
  {
   "cell_type": "code",
   "execution_count": 6,
   "id": "a009967f",
   "metadata": {},
   "outputs": [
    {
     "name": "stdout",
     "output_type": "stream",
     "text": [
      "<class 'pandas.core.frame.DataFrame'>\n",
      "RangeIndex: 116058 entries, 0 to 116057\n",
      "Data columns (total 29 columns):\n",
      " #   Column                    Non-Null Count   Dtype  \n",
      "---  ------                    --------------   -----  \n",
      " 0   loan_id                   116058 non-null  int64  \n",
      " 1   source                    116058 non-null  object \n",
      " 2   financial_institution     116058 non-null  object \n",
      " 3   interest_rate             116058 non-null  float64\n",
      " 4   unpaid_principal_bal      116058 non-null  int64  \n",
      " 5   loan_term                 116058 non-null  int64  \n",
      " 6   origination_date          116058 non-null  object \n",
      " 7   first_payment_date        116058 non-null  object \n",
      " 8   loan_to_value             116058 non-null  int64  \n",
      " 9   number_of_borrowers       116058 non-null  float64\n",
      " 10  debt_to_income_ratio      116058 non-null  float64\n",
      " 11  borrower_credit_score     116058 non-null  float64\n",
      " 12  loan_purpose              116058 non-null  object \n",
      " 13  insurance_percent         116058 non-null  float64\n",
      " 14  co-borrower_credit_score  116058 non-null  float64\n",
      " 15  insurance_type            116058 non-null  float64\n",
      " 16  m1                        116058 non-null  int64  \n",
      " 17  m2                        116058 non-null  int64  \n",
      " 18  m3                        116058 non-null  int64  \n",
      " 19  m4                        116058 non-null  int64  \n",
      " 20  m5                        116058 non-null  int64  \n",
      " 21  m6                        116058 non-null  int64  \n",
      " 22  m7                        116058 non-null  int64  \n",
      " 23  m8                        116058 non-null  int64  \n",
      " 24  m9                        116058 non-null  int64  \n",
      " 25  m10                       116058 non-null  int64  \n",
      " 26  m11                       116058 non-null  int64  \n",
      " 27  m12                       116058 non-null  int64  \n",
      " 28  m13                       116058 non-null  int64  \n",
      "dtypes: float64(7), int64(17), object(5)\n",
      "memory usage: 25.7+ MB\n"
     ]
    }
   ],
   "source": [
    "data.info()"
   ]
  },
  {
   "cell_type": "code",
   "execution_count": 7,
   "id": "e936b6e3",
   "metadata": {},
   "outputs": [],
   "source": [
    "#removing the unwanted columns\n",
    "data1=data.drop(['loan_id','source','financial_institution','loan_purpose','origination_date','first_payment_date','number_of_borrowers'],axis=1)"
   ]
  },
  {
   "cell_type": "code",
   "execution_count": 8,
   "id": "d67087a9",
   "metadata": {},
   "outputs": [
    {
     "data": {
      "text/html": [
       "<div>\n",
       "<style scoped>\n",
       "    .dataframe tbody tr th:only-of-type {\n",
       "        vertical-align: middle;\n",
       "    }\n",
       "\n",
       "    .dataframe tbody tr th {\n",
       "        vertical-align: top;\n",
       "    }\n",
       "\n",
       "    .dataframe thead th {\n",
       "        text-align: right;\n",
       "    }\n",
       "</style>\n",
       "<table border=\"1\" class=\"dataframe\">\n",
       "  <thead>\n",
       "    <tr style=\"text-align: right;\">\n",
       "      <th></th>\n",
       "      <th>interest_rate</th>\n",
       "      <th>unpaid_principal_bal</th>\n",
       "      <th>loan_term</th>\n",
       "      <th>loan_to_value</th>\n",
       "      <th>debt_to_income_ratio</th>\n",
       "      <th>borrower_credit_score</th>\n",
       "      <th>insurance_percent</th>\n",
       "      <th>co-borrower_credit_score</th>\n",
       "      <th>insurance_type</th>\n",
       "      <th>m1</th>\n",
       "      <th>...</th>\n",
       "      <th>m4</th>\n",
       "      <th>m5</th>\n",
       "      <th>m6</th>\n",
       "      <th>m7</th>\n",
       "      <th>m8</th>\n",
       "      <th>m9</th>\n",
       "      <th>m10</th>\n",
       "      <th>m11</th>\n",
       "      <th>m12</th>\n",
       "      <th>m13</th>\n",
       "    </tr>\n",
       "  </thead>\n",
       "  <tbody>\n",
       "    <tr>\n",
       "      <th>0</th>\n",
       "      <td>4.250</td>\n",
       "      <td>214000</td>\n",
       "      <td>360</td>\n",
       "      <td>95</td>\n",
       "      <td>22.0</td>\n",
       "      <td>694.0</td>\n",
       "      <td>30.0</td>\n",
       "      <td>0.0</td>\n",
       "      <td>0.0</td>\n",
       "      <td>0</td>\n",
       "      <td>...</td>\n",
       "      <td>0</td>\n",
       "      <td>0</td>\n",
       "      <td>0</td>\n",
       "      <td>1</td>\n",
       "      <td>0</td>\n",
       "      <td>0</td>\n",
       "      <td>0</td>\n",
       "      <td>0</td>\n",
       "      <td>0</td>\n",
       "      <td>1</td>\n",
       "    </tr>\n",
       "    <tr>\n",
       "      <th>1</th>\n",
       "      <td>4.875</td>\n",
       "      <td>144000</td>\n",
       "      <td>360</td>\n",
       "      <td>72</td>\n",
       "      <td>44.0</td>\n",
       "      <td>697.0</td>\n",
       "      <td>0.0</td>\n",
       "      <td>0.0</td>\n",
       "      <td>0.0</td>\n",
       "      <td>0</td>\n",
       "      <td>...</td>\n",
       "      <td>0</td>\n",
       "      <td>0</td>\n",
       "      <td>0</td>\n",
       "      <td>0</td>\n",
       "      <td>0</td>\n",
       "      <td>0</td>\n",
       "      <td>0</td>\n",
       "      <td>1</td>\n",
       "      <td>0</td>\n",
       "      <td>1</td>\n",
       "    </tr>\n",
       "    <tr>\n",
       "      <th>2</th>\n",
       "      <td>3.250</td>\n",
       "      <td>366000</td>\n",
       "      <td>180</td>\n",
       "      <td>49</td>\n",
       "      <td>33.0</td>\n",
       "      <td>780.0</td>\n",
       "      <td>0.0</td>\n",
       "      <td>0.0</td>\n",
       "      <td>0.0</td>\n",
       "      <td>0</td>\n",
       "      <td>...</td>\n",
       "      <td>0</td>\n",
       "      <td>0</td>\n",
       "      <td>0</td>\n",
       "      <td>0</td>\n",
       "      <td>0</td>\n",
       "      <td>0</td>\n",
       "      <td>0</td>\n",
       "      <td>0</td>\n",
       "      <td>0</td>\n",
       "      <td>1</td>\n",
       "    </tr>\n",
       "    <tr>\n",
       "      <th>3</th>\n",
       "      <td>4.750</td>\n",
       "      <td>135000</td>\n",
       "      <td>360</td>\n",
       "      <td>46</td>\n",
       "      <td>44.0</td>\n",
       "      <td>633.0</td>\n",
       "      <td>0.0</td>\n",
       "      <td>638.0</td>\n",
       "      <td>0.0</td>\n",
       "      <td>0</td>\n",
       "      <td>...</td>\n",
       "      <td>0</td>\n",
       "      <td>0</td>\n",
       "      <td>0</td>\n",
       "      <td>0</td>\n",
       "      <td>0</td>\n",
       "      <td>1</td>\n",
       "      <td>1</td>\n",
       "      <td>1</td>\n",
       "      <td>1</td>\n",
       "      <td>1</td>\n",
       "    </tr>\n",
       "    <tr>\n",
       "      <th>4</th>\n",
       "      <td>4.750</td>\n",
       "      <td>124000</td>\n",
       "      <td>360</td>\n",
       "      <td>80</td>\n",
       "      <td>43.0</td>\n",
       "      <td>681.0</td>\n",
       "      <td>0.0</td>\n",
       "      <td>0.0</td>\n",
       "      <td>0.0</td>\n",
       "      <td>0</td>\n",
       "      <td>...</td>\n",
       "      <td>3</td>\n",
       "      <td>4</td>\n",
       "      <td>5</td>\n",
       "      <td>6</td>\n",
       "      <td>7</td>\n",
       "      <td>8</td>\n",
       "      <td>9</td>\n",
       "      <td>10</td>\n",
       "      <td>11</td>\n",
       "      <td>1</td>\n",
       "    </tr>\n",
       "  </tbody>\n",
       "</table>\n",
       "<p>5 rows × 22 columns</p>\n",
       "</div>"
      ],
      "text/plain": [
       "   interest_rate  unpaid_principal_bal  loan_term  loan_to_value  \\\n",
       "0          4.250                214000        360             95   \n",
       "1          4.875                144000        360             72   \n",
       "2          3.250                366000        180             49   \n",
       "3          4.750                135000        360             46   \n",
       "4          4.750                124000        360             80   \n",
       "\n",
       "   debt_to_income_ratio  borrower_credit_score  insurance_percent  \\\n",
       "0                  22.0                  694.0               30.0   \n",
       "1                  44.0                  697.0                0.0   \n",
       "2                  33.0                  780.0                0.0   \n",
       "3                  44.0                  633.0                0.0   \n",
       "4                  43.0                  681.0                0.0   \n",
       "\n",
       "   co-borrower_credit_score  insurance_type  m1  ...  m4  m5  m6  m7  m8  m9  \\\n",
       "0                       0.0             0.0   0  ...   0   0   0   1   0   0   \n",
       "1                       0.0             0.0   0  ...   0   0   0   0   0   0   \n",
       "2                       0.0             0.0   0  ...   0   0   0   0   0   0   \n",
       "3                     638.0             0.0   0  ...   0   0   0   0   0   1   \n",
       "4                       0.0             0.0   0  ...   3   4   5   6   7   8   \n",
       "\n",
       "   m10  m11  m12  m13  \n",
       "0    0    0    0    1  \n",
       "1    0    1    0    1  \n",
       "2    0    0    0    1  \n",
       "3    1    1    1    1  \n",
       "4    9   10   11    1  \n",
       "\n",
       "[5 rows x 22 columns]"
      ]
     },
     "execution_count": 8,
     "metadata": {},
     "output_type": "execute_result"
    }
   ],
   "source": [
    "data1.head()"
   ]
  },
  {
   "cell_type": "code",
   "execution_count": 9,
   "id": "c6f17dbf",
   "metadata": {},
   "outputs": [
    {
     "data": {
      "text/plain": [
       "interest_rate               0\n",
       "unpaid_principal_bal        0\n",
       "loan_term                   0\n",
       "loan_to_value               0\n",
       "debt_to_income_ratio        0\n",
       "borrower_credit_score       0\n",
       "insurance_percent           0\n",
       "co-borrower_credit_score    0\n",
       "insurance_type              0\n",
       "m1                          0\n",
       "m2                          0\n",
       "m3                          0\n",
       "m4                          0\n",
       "m5                          0\n",
       "m6                          0\n",
       "m7                          0\n",
       "m8                          0\n",
       "m9                          0\n",
       "m10                         0\n",
       "m11                         0\n",
       "m12                         0\n",
       "m13                         0\n",
       "dtype: int64"
      ]
     },
     "execution_count": 9,
     "metadata": {},
     "output_type": "execute_result"
    }
   ],
   "source": [
    "data1.isna().sum()"
   ]
  },
  {
   "cell_type": "code",
   "execution_count": 10,
   "id": "60d81370",
   "metadata": {},
   "outputs": [],
   "source": [
    "# Seperating the data into dependent and independent variables.\n",
    "X=data1.drop('m13',axis=1)\n",
    "y=data1['m13']"
   ]
  },
  {
   "cell_type": "code",
   "execution_count": 11,
   "id": "3f16fdf0",
   "metadata": {},
   "outputs": [],
   "source": [
    "# Splitting the dataset into the Training set and Test set\n",
    "from sklearn.model_selection import train_test_split"
   ]
  },
  {
   "cell_type": "code",
   "execution_count": 12,
   "id": "88b84c22",
   "metadata": {},
   "outputs": [],
   "source": [
    "X_train,X_test,y_train,y_test=train_test_split(X,y,test_size=0.2,random_state=42)"
   ]
  },
  {
   "cell_type": "markdown",
   "id": "94b8debe",
   "metadata": {},
   "source": [
    "## 1. Logistic Regression"
   ]
  },
  {
   "cell_type": "code",
   "execution_count": 13,
   "id": "73c9b60a",
   "metadata": {},
   "outputs": [],
   "source": [
    "#importing the libraries for logistic regression\n",
    "from sklearn.linear_model import LogisticRegression"
   ]
  },
  {
   "cell_type": "code",
   "execution_count": 14,
   "id": "c4662f22",
   "metadata": {},
   "outputs": [],
   "source": [
    "# Instantiate learning model\n",
    "log_reg=LogisticRegression()"
   ]
  },
  {
   "cell_type": "code",
   "execution_count": 15,
   "id": "cf5fdcb8",
   "metadata": {},
   "outputs": [
    {
     "name": "stderr",
     "output_type": "stream",
     "text": [
      "C:\\Users\\user\\anaconda3\\lib\\site-packages\\sklearn\\linear_model\\_logistic.py:814: ConvergenceWarning: lbfgs failed to converge (status=1):\n",
      "STOP: TOTAL NO. of ITERATIONS REACHED LIMIT.\n",
      "\n",
      "Increase the number of iterations (max_iter) or scale the data as shown in:\n",
      "    https://scikit-learn.org/stable/modules/preprocessing.html\n",
      "Please also refer to the documentation for alternative solver options:\n",
      "    https://scikit-learn.org/stable/modules/linear_model.html#logistic-regression\n",
      "  n_iter_i = _check_optimize_result(\n"
     ]
    }
   ],
   "source": [
    "# Fitting the model\n",
    "log_reg_model=log_reg.fit(X_train,y_train)\n",
    "# Predicting the Test set results\n",
    "log_reg_pred=log_reg_model.predict(X_test)"
   ]
  },
  {
   "cell_type": "code",
   "execution_count": 16,
   "id": "53c76595",
   "metadata": {},
   "outputs": [],
   "source": [
    "#Evaluating Predictions\n",
    "from sklearn.metrics import confusion_matrix"
   ]
  },
  {
   "cell_type": "code",
   "execution_count": 17,
   "id": "76fa2604",
   "metadata": {},
   "outputs": [
    {
     "data": {
      "text/plain": [
       "array([[23073,    11],\n",
       "       [  128,     0]], dtype=int64)"
      ]
     },
     "execution_count": 17,
     "metadata": {},
     "output_type": "execute_result"
    }
   ],
   "source": [
    "# Confusion Matrix\n",
    "confusion_matrix(y_test,log_reg_pred)"
   ]
  },
  {
   "cell_type": "code",
   "execution_count": 18,
   "id": "8f9c865b",
   "metadata": {},
   "outputs": [
    {
     "data": {
      "text/plain": [
       "0.9940117180768568"
      ]
     },
     "execution_count": 18,
     "metadata": {},
     "output_type": "execute_result"
    }
   ],
   "source": [
    "# accuracy score\n",
    "from sklearn.metrics import accuracy_score\n",
    "accuracy_score(y_test,log_reg_pred)"
   ]
  },
  {
   "cell_type": "code",
   "execution_count": 19,
   "id": "acd3b159",
   "metadata": {},
   "outputs": [],
   "source": [
    "#precision score,recall score\n",
    "from sklearn.metrics import precision_score,recall_score"
   ]
  },
  {
   "cell_type": "code",
   "execution_count": 20,
   "id": "0814f033",
   "metadata": {},
   "outputs": [
    {
     "data": {
      "text/plain": [
       "0.0"
      ]
     },
     "execution_count": 20,
     "metadata": {},
     "output_type": "execute_result"
    }
   ],
   "source": [
    "precision_score(y_test,log_reg_pred)"
   ]
  },
  {
   "cell_type": "code",
   "execution_count": 49,
   "id": "ed06a33e",
   "metadata": {},
   "outputs": [
    {
     "data": {
      "text/plain": [
       "0.3203125"
      ]
     },
     "execution_count": 49,
     "metadata": {},
     "output_type": "execute_result"
    }
   ],
   "source": [
    "recall_score(y_test,log_reg_pred)"
   ]
  },
  {
   "cell_type": "markdown",
   "id": "df0c8dd9",
   "metadata": {},
   "source": [
    "## 2. Support Vector Machine"
   ]
  },
  {
   "cell_type": "code",
   "execution_count": 21,
   "id": "6d0aa36a",
   "metadata": {},
   "outputs": [],
   "source": [
    "# Importing libraries for SVM model\n",
    "from sklearn.svm import SVC"
   ]
  },
  {
   "cell_type": "code",
   "execution_count": 22,
   "id": "baf2076d",
   "metadata": {},
   "outputs": [],
   "source": [
    "# SVM with RBF kernel\n",
    "svm_clf=SVC(kernel='rbf')\n",
    "svm_model=svm_clf.fit(X_train,y_train)\n",
    "svm_pred=svm_model.predict(X_test)"
   ]
  },
  {
   "cell_type": "code",
   "execution_count": 23,
   "id": "a2a39548",
   "metadata": {},
   "outputs": [],
   "source": [
    "#Evaluating Predictions\n",
    "# Confusion Matrix"
   ]
  },
  {
   "cell_type": "code",
   "execution_count": 24,
   "id": "78a7e100",
   "metadata": {},
   "outputs": [
    {
     "data": {
      "text/plain": [
       "array([[23084,     0],\n",
       "       [  128,     0]], dtype=int64)"
      ]
     },
     "execution_count": 24,
     "metadata": {},
     "output_type": "execute_result"
    }
   ],
   "source": [
    "confusion_matrix(y_test,svm_pred)"
   ]
  },
  {
   "cell_type": "code",
   "execution_count": 25,
   "id": "17030f6b",
   "metadata": {},
   "outputs": [
    {
     "data": {
      "text/plain": [
       "0.9944856108909185"
      ]
     },
     "execution_count": 25,
     "metadata": {},
     "output_type": "execute_result"
    }
   ],
   "source": [
    "# accuracy score\n",
    "accuracy_score(y_test,svm_pred)"
   ]
  },
  {
   "cell_type": "markdown",
   "id": "d8bdbd07",
   "metadata": {},
   "source": [
    "## 3. Decision Tree Classifier"
   ]
  },
  {
   "cell_type": "code",
   "execution_count": 26,
   "id": "b3e420c8",
   "metadata": {},
   "outputs": [],
   "source": [
    "# importing libraries for decision tree classifier"
   ]
  },
  {
   "cell_type": "code",
   "execution_count": 27,
   "id": "43462bcc",
   "metadata": {},
   "outputs": [],
   "source": [
    "from sklearn.tree import DecisionTreeClassifier"
   ]
  },
  {
   "cell_type": "code",
   "execution_count": 28,
   "id": "e4344297",
   "metadata": {},
   "outputs": [],
   "source": [
    "# Instantiate learning model\n",
    "dt_clf=DecisionTreeClassifier()\n",
    "# Fitting the model\n",
    "dt_clf=dt_clf.fit(X_train,y_train)\n",
    "# Predicting the Test set results\n",
    "y_pred_dt=dt_clf.predict(X_test)"
   ]
  },
  {
   "cell_type": "markdown",
   "id": "d778a8c6",
   "metadata": {},
   "source": [
    "Evaluating Predictions"
   ]
  },
  {
   "cell_type": "code",
   "execution_count": 29,
   "id": "2d9e86c8",
   "metadata": {},
   "outputs": [
    {
     "data": {
      "text/plain": [
       "array([[22997,    87],\n",
       "       [   80,    48]], dtype=int64)"
      ]
     },
     "execution_count": 29,
     "metadata": {},
     "output_type": "execute_result"
    }
   ],
   "source": [
    "# Confusion Matrix\n",
    "confusion_matrix(y_test,y_pred_dt)"
   ]
  },
  {
   "cell_type": "code",
   "execution_count": 30,
   "id": "cd73add9",
   "metadata": {},
   "outputs": [
    {
     "data": {
      "text/plain": [
       "0.9928054454592452"
      ]
     },
     "execution_count": 30,
     "metadata": {},
     "output_type": "execute_result"
    }
   ],
   "source": [
    "# Accuracy Score\n",
    "accuracy_score(y_test,y_pred_dt)"
   ]
  },
  {
   "cell_type": "markdown",
   "id": "2b079813",
   "metadata": {},
   "source": [
    "## 4. Random Forest Algorithm"
   ]
  },
  {
   "cell_type": "code",
   "execution_count": 31,
   "id": "4dc30a06",
   "metadata": {},
   "outputs": [],
   "source": [
    "# importing libraries for random forest algorithm"
   ]
  },
  {
   "cell_type": "code",
   "execution_count": 32,
   "id": "42e7c112",
   "metadata": {},
   "outputs": [],
   "source": [
    "from sklearn.ensemble import RandomForestClassifier"
   ]
  },
  {
   "cell_type": "code",
   "execution_count": 33,
   "id": "2898f056",
   "metadata": {},
   "outputs": [],
   "source": [
    "# Instantiate learning model\n",
    "rf_clf=RandomForestClassifier()\n",
    "# Fitting the model\n",
    "rf_clf=rf_clf.fit(X_train,y_train)\n",
    "# Predicting the Test set results\n",
    "y_pred_rf=rf_clf.predict(X_test)"
   ]
  },
  {
   "cell_type": "markdown",
   "id": "35dbe83e",
   "metadata": {},
   "source": [
    "Evaluating Predictions"
   ]
  },
  {
   "cell_type": "code",
   "execution_count": 34,
   "id": "b6e1b1bf",
   "metadata": {},
   "outputs": [
    {
     "data": {
      "text/plain": [
       "array([[23068,    16],\n",
       "       [   84,    44]], dtype=int64)"
      ]
     },
     "execution_count": 34,
     "metadata": {},
     "output_type": "execute_result"
    }
   ],
   "source": [
    "# Confusion Matrix\n",
    "confusion_matrix(y_test,y_pred_rf)"
   ]
  },
  {
   "cell_type": "code",
   "execution_count": 35,
   "id": "15c659d4",
   "metadata": {},
   "outputs": [
    {
     "data": {
      "text/plain": [
       "0.9956918835085301"
      ]
     },
     "execution_count": 35,
     "metadata": {},
     "output_type": "execute_result"
    }
   ],
   "source": [
    "# Accuracy Score\n",
    "accuracy_score(y_test,y_pred_rf)"
   ]
  },
  {
   "cell_type": "markdown",
   "id": "0440bc95",
   "metadata": {},
   "source": [
    "## Standard Scaling"
   ]
  },
  {
   "cell_type": "code",
   "execution_count": 36,
   "id": "a71d7bc0",
   "metadata": {},
   "outputs": [],
   "source": [
    "from sklearn.preprocessing import StandardScaler"
   ]
  },
  {
   "cell_type": "code",
   "execution_count": 37,
   "id": "452e2cfa",
   "metadata": {},
   "outputs": [],
   "source": [
    "std_scl=StandardScaler()"
   ]
  },
  {
   "cell_type": "code",
   "execution_count": 38,
   "id": "5231d46d",
   "metadata": {},
   "outputs": [],
   "source": [
    "X.iloc[:] = std_scl.fit_transform(X.iloc[:])"
   ]
  },
  {
   "cell_type": "code",
   "execution_count": 40,
   "id": "1aac3f09",
   "metadata": {},
   "outputs": [
    {
     "data": {
      "text/html": [
       "<div>\n",
       "<style scoped>\n",
       "    .dataframe tbody tr th:only-of-type {\n",
       "        vertical-align: middle;\n",
       "    }\n",
       "\n",
       "    .dataframe tbody tr th {\n",
       "        vertical-align: top;\n",
       "    }\n",
       "\n",
       "    .dataframe thead th {\n",
       "        text-align: right;\n",
       "    }\n",
       "</style>\n",
       "<table border=\"1\" class=\"dataframe\">\n",
       "  <thead>\n",
       "    <tr style=\"text-align: right;\">\n",
       "      <th></th>\n",
       "      <th>interest_rate</th>\n",
       "      <th>unpaid_principal_bal</th>\n",
       "      <th>loan_term</th>\n",
       "      <th>loan_to_value</th>\n",
       "      <th>debt_to_income_ratio</th>\n",
       "      <th>borrower_credit_score</th>\n",
       "      <th>insurance_percent</th>\n",
       "      <th>co-borrower_credit_score</th>\n",
       "      <th>insurance_type</th>\n",
       "      <th>m1</th>\n",
       "      <th>...</th>\n",
       "      <th>m3</th>\n",
       "      <th>m4</th>\n",
       "      <th>m5</th>\n",
       "      <th>m6</th>\n",
       "      <th>m7</th>\n",
       "      <th>m8</th>\n",
       "      <th>m9</th>\n",
       "      <th>m10</th>\n",
       "      <th>m11</th>\n",
       "      <th>m12</th>\n",
       "    </tr>\n",
       "  </thead>\n",
       "  <tbody>\n",
       "    <tr>\n",
       "      <th>count</th>\n",
       "      <td>1.160580e+05</td>\n",
       "      <td>1.160580e+05</td>\n",
       "      <td>1.160580e+05</td>\n",
       "      <td>1.160580e+05</td>\n",
       "      <td>1.160580e+05</td>\n",
       "      <td>1.160580e+05</td>\n",
       "      <td>1.160580e+05</td>\n",
       "      <td>1.160580e+05</td>\n",
       "      <td>1.160580e+05</td>\n",
       "      <td>1.160580e+05</td>\n",
       "      <td>...</td>\n",
       "      <td>1.160580e+05</td>\n",
       "      <td>1.160580e+05</td>\n",
       "      <td>1.160580e+05</td>\n",
       "      <td>1.160580e+05</td>\n",
       "      <td>1.160580e+05</td>\n",
       "      <td>1.160580e+05</td>\n",
       "      <td>1.160580e+05</td>\n",
       "      <td>1.160580e+05</td>\n",
       "      <td>1.160580e+05</td>\n",
       "      <td>1.160580e+05</td>\n",
       "    </tr>\n",
       "    <tr>\n",
       "      <th>mean</th>\n",
       "      <td>4.469170e-16</td>\n",
       "      <td>-5.671026e-17</td>\n",
       "      <td>3.339967e-16</td>\n",
       "      <td>-6.726426e-16</td>\n",
       "      <td>-4.558249e-17</td>\n",
       "      <td>1.053441e-15</td>\n",
       "      <td>-1.194079e-15</td>\n",
       "      <td>-7.461141e-15</td>\n",
       "      <td>1.412815e-15</td>\n",
       "      <td>-5.397938e-15</td>\n",
       "      <td>...</td>\n",
       "      <td>-7.020845e-15</td>\n",
       "      <td>-3.962017e-14</td>\n",
       "      <td>-1.266139e-14</td>\n",
       "      <td>5.294998e-14</td>\n",
       "      <td>-1.289509e-14</td>\n",
       "      <td>-3.712566e-14</td>\n",
       "      <td>-2.005542e-14</td>\n",
       "      <td>-1.414341e-14</td>\n",
       "      <td>4.808151e-15</td>\n",
       "      <td>-4.810822e-14</td>\n",
       "    </tr>\n",
       "    <tr>\n",
       "      <th>std</th>\n",
       "      <td>1.000004e+00</td>\n",
       "      <td>1.000004e+00</td>\n",
       "      <td>1.000004e+00</td>\n",
       "      <td>1.000004e+00</td>\n",
       "      <td>1.000004e+00</td>\n",
       "      <td>1.000004e+00</td>\n",
       "      <td>1.000004e+00</td>\n",
       "      <td>1.000004e+00</td>\n",
       "      <td>1.000004e+00</td>\n",
       "      <td>1.000004e+00</td>\n",
       "      <td>...</td>\n",
       "      <td>1.000004e+00</td>\n",
       "      <td>1.000004e+00</td>\n",
       "      <td>1.000004e+00</td>\n",
       "      <td>1.000004e+00</td>\n",
       "      <td>1.000004e+00</td>\n",
       "      <td>1.000004e+00</td>\n",
       "      <td>1.000004e+00</td>\n",
       "      <td>1.000004e+00</td>\n",
       "      <td>1.000004e+00</td>\n",
       "      <td>1.000004e+00</td>\n",
       "    </tr>\n",
       "    <tr>\n",
       "      <th>min</th>\n",
       "      <td>-3.511708e+00</td>\n",
       "      <td>-1.719727e+00</td>\n",
       "      <td>-2.587742e+00</td>\n",
       "      <td>-3.552695e+00</td>\n",
       "      <td>-3.056524e+00</td>\n",
       "      <td>-1.824016e+01</td>\n",
       "      <td>-3.441379e-01</td>\n",
       "      <td>-1.203344e+00</td>\n",
       "      <td>-5.716323e-02</td>\n",
       "      <td>-5.045801e-02</td>\n",
       "      <td>...</td>\n",
       "      <td>-3.559909e-02</td>\n",
       "      <td>-3.506927e-02</td>\n",
       "      <td>-4.274965e-02</td>\n",
       "      <td>-3.907017e-02</td>\n",
       "      <td>-4.122105e-02</td>\n",
       "      <td>-4.265242e-02</td>\n",
       "      <td>-4.179149e-02</td>\n",
       "      <td>-4.458259e-02</td>\n",
       "      <td>-4.364174e-02</td>\n",
       "      <td>-4.527618e-02</td>\n",
       "    </tr>\n",
       "    <tr>\n",
       "      <th>25%</th>\n",
       "      <td>-8.003173e-01</td>\n",
       "      <td>-7.692944e-01</td>\n",
       "      <td>-1.250874e+00</td>\n",
       "      <td>-6.032936e-01</td>\n",
       "      <td>-7.956517e-01</td>\n",
       "      <td>-4.483900e-01</td>\n",
       "      <td>-3.441379e-01</td>\n",
       "      <td>-1.203344e+00</td>\n",
       "      <td>-5.716323e-02</td>\n",
       "      <td>-5.045801e-02</td>\n",
       "      <td>...</td>\n",
       "      <td>-3.559909e-02</td>\n",
       "      <td>-3.506927e-02</td>\n",
       "      <td>-4.274965e-02</td>\n",
       "      <td>-3.907017e-02</td>\n",
       "      <td>-4.122105e-02</td>\n",
       "      <td>-4.265242e-02</td>\n",
       "      <td>-4.179149e-02</td>\n",
       "      <td>-4.458259e-02</td>\n",
       "      <td>-4.364174e-02</td>\n",
       "      <td>-4.527618e-02</td>\n",
       "    </tr>\n",
       "    <tr>\n",
       "      <th>50%</th>\n",
       "      <td>1.309988e-02</td>\n",
       "      <td>-2.199617e-01</td>\n",
       "      <td>7.544282e-01</td>\n",
       "      <td>2.641773e-01</td>\n",
       "      <td>2.648380e-02</td>\n",
       "      <td>2.860240e-01</td>\n",
       "      <td>-3.441379e-01</td>\n",
       "      <td>7.341063e-01</td>\n",
       "      <td>-5.716323e-02</td>\n",
       "      <td>-5.045801e-02</td>\n",
       "      <td>...</td>\n",
       "      <td>-3.559909e-02</td>\n",
       "      <td>-3.506927e-02</td>\n",
       "      <td>-4.274965e-02</td>\n",
       "      <td>-3.907017e-02</td>\n",
       "      <td>-4.122105e-02</td>\n",
       "      <td>-4.265242e-02</td>\n",
       "      <td>-4.179149e-02</td>\n",
       "      <td>-4.458259e-02</td>\n",
       "      <td>-4.364174e-02</td>\n",
       "      <td>-4.527618e-02</td>\n",
       "    </tr>\n",
       "    <tr>\n",
       "      <th>75%</th>\n",
       "      <td>5.553780e-01</td>\n",
       "      <td>6.083971e-01</td>\n",
       "      <td>7.544282e-01</td>\n",
       "      <td>7.268285e-01</td>\n",
       "      <td>8.486193e-01</td>\n",
       "      <td>7.124579e-01</td>\n",
       "      <td>-3.441379e-01</td>\n",
       "      <td>8.676333e-01</td>\n",
       "      <td>-5.716323e-02</td>\n",
       "      <td>-5.045801e-02</td>\n",
       "      <td>...</td>\n",
       "      <td>-3.559909e-02</td>\n",
       "      <td>-3.506927e-02</td>\n",
       "      <td>-4.274965e-02</td>\n",
       "      <td>-3.907017e-02</td>\n",
       "      <td>-4.122105e-02</td>\n",
       "      <td>-4.265242e-02</td>\n",
       "      <td>-4.179149e-02</td>\n",
       "      <td>-4.458259e-02</td>\n",
       "      <td>-4.364174e-02</td>\n",
       "      <td>-4.527618e-02</td>\n",
       "    </tr>\n",
       "    <tr>\n",
       "      <th>max</th>\n",
       "      <td>6.249298e+00</td>\n",
       "      <td>8.647837e+00</td>\n",
       "      <td>7.544282e-01</td>\n",
       "      <td>1.709962e+00</td>\n",
       "      <td>3.417793e+00</td>\n",
       "      <td>1.660089e+00</td>\n",
       "      <td>4.596312e+00</td>\n",
       "      <td>9.854512e-01</td>\n",
       "      <td>1.749376e+01</td>\n",
       "      <td>4.730309e+01</td>\n",
       "      <td>...</td>\n",
       "      <td>9.017311e+01</td>\n",
       "      <td>9.648831e+01</td>\n",
       "      <td>8.466474e+01</td>\n",
       "      <td>9.133435e+01</td>\n",
       "      <td>8.910225e+01</td>\n",
       "      <td>8.835297e+01</td>\n",
       "      <td>8.573409e+01</td>\n",
       "      <td>8.080176e+01</td>\n",
       "      <td>7.976805e+01</td>\n",
       "      <td>7.855011e+01</td>\n",
       "    </tr>\n",
       "  </tbody>\n",
       "</table>\n",
       "<p>8 rows × 21 columns</p>\n",
       "</div>"
      ],
      "text/plain": [
       "       interest_rate  unpaid_principal_bal     loan_term  loan_to_value  \\\n",
       "count   1.160580e+05          1.160580e+05  1.160580e+05   1.160580e+05   \n",
       "mean    4.469170e-16         -5.671026e-17  3.339967e-16  -6.726426e-16   \n",
       "std     1.000004e+00          1.000004e+00  1.000004e+00   1.000004e+00   \n",
       "min    -3.511708e+00         -1.719727e+00 -2.587742e+00  -3.552695e+00   \n",
       "25%    -8.003173e-01         -7.692944e-01 -1.250874e+00  -6.032936e-01   \n",
       "50%     1.309988e-02         -2.199617e-01  7.544282e-01   2.641773e-01   \n",
       "75%     5.553780e-01          6.083971e-01  7.544282e-01   7.268285e-01   \n",
       "max     6.249298e+00          8.647837e+00  7.544282e-01   1.709962e+00   \n",
       "\n",
       "       debt_to_income_ratio  borrower_credit_score  insurance_percent  \\\n",
       "count          1.160580e+05           1.160580e+05       1.160580e+05   \n",
       "mean          -4.558249e-17           1.053441e-15      -1.194079e-15   \n",
       "std            1.000004e+00           1.000004e+00       1.000004e+00   \n",
       "min           -3.056524e+00          -1.824016e+01      -3.441379e-01   \n",
       "25%           -7.956517e-01          -4.483900e-01      -3.441379e-01   \n",
       "50%            2.648380e-02           2.860240e-01      -3.441379e-01   \n",
       "75%            8.486193e-01           7.124579e-01      -3.441379e-01   \n",
       "max            3.417793e+00           1.660089e+00       4.596312e+00   \n",
       "\n",
       "       co-borrower_credit_score  insurance_type            m1  ...  \\\n",
       "count              1.160580e+05    1.160580e+05  1.160580e+05  ...   \n",
       "mean              -7.461141e-15    1.412815e-15 -5.397938e-15  ...   \n",
       "std                1.000004e+00    1.000004e+00  1.000004e+00  ...   \n",
       "min               -1.203344e+00   -5.716323e-02 -5.045801e-02  ...   \n",
       "25%               -1.203344e+00   -5.716323e-02 -5.045801e-02  ...   \n",
       "50%                7.341063e-01   -5.716323e-02 -5.045801e-02  ...   \n",
       "75%                8.676333e-01   -5.716323e-02 -5.045801e-02  ...   \n",
       "max                9.854512e-01    1.749376e+01  4.730309e+01  ...   \n",
       "\n",
       "                 m3            m4            m5            m6            m7  \\\n",
       "count  1.160580e+05  1.160580e+05  1.160580e+05  1.160580e+05  1.160580e+05   \n",
       "mean  -7.020845e-15 -3.962017e-14 -1.266139e-14  5.294998e-14 -1.289509e-14   \n",
       "std    1.000004e+00  1.000004e+00  1.000004e+00  1.000004e+00  1.000004e+00   \n",
       "min   -3.559909e-02 -3.506927e-02 -4.274965e-02 -3.907017e-02 -4.122105e-02   \n",
       "25%   -3.559909e-02 -3.506927e-02 -4.274965e-02 -3.907017e-02 -4.122105e-02   \n",
       "50%   -3.559909e-02 -3.506927e-02 -4.274965e-02 -3.907017e-02 -4.122105e-02   \n",
       "75%   -3.559909e-02 -3.506927e-02 -4.274965e-02 -3.907017e-02 -4.122105e-02   \n",
       "max    9.017311e+01  9.648831e+01  8.466474e+01  9.133435e+01  8.910225e+01   \n",
       "\n",
       "                 m8            m9           m10           m11           m12  \n",
       "count  1.160580e+05  1.160580e+05  1.160580e+05  1.160580e+05  1.160580e+05  \n",
       "mean  -3.712566e-14 -2.005542e-14 -1.414341e-14  4.808151e-15 -4.810822e-14  \n",
       "std    1.000004e+00  1.000004e+00  1.000004e+00  1.000004e+00  1.000004e+00  \n",
       "min   -4.265242e-02 -4.179149e-02 -4.458259e-02 -4.364174e-02 -4.527618e-02  \n",
       "25%   -4.265242e-02 -4.179149e-02 -4.458259e-02 -4.364174e-02 -4.527618e-02  \n",
       "50%   -4.265242e-02 -4.179149e-02 -4.458259e-02 -4.364174e-02 -4.527618e-02  \n",
       "75%   -4.265242e-02 -4.179149e-02 -4.458259e-02 -4.364174e-02 -4.527618e-02  \n",
       "max    8.835297e+01  8.573409e+01  8.080176e+01  7.976805e+01  7.855011e+01  \n",
       "\n",
       "[8 rows x 21 columns]"
      ]
     },
     "execution_count": 40,
     "metadata": {},
     "output_type": "execute_result"
    }
   ],
   "source": [
    "X.describe()"
   ]
  },
  {
   "cell_type": "markdown",
   "id": "b251fa71",
   "metadata": {},
   "source": [
    "## Logistic Regression after Standard Scaling"
   ]
  },
  {
   "cell_type": "code",
   "execution_count": 41,
   "id": "04bb211d",
   "metadata": {},
   "outputs": [],
   "source": [
    "X_train,X_test,y_train,y_test=train_test_split(X,y,test_size=0.2,random_state=42)"
   ]
  },
  {
   "cell_type": "code",
   "execution_count": 42,
   "id": "2e2fdaeb",
   "metadata": {},
   "outputs": [],
   "source": [
    "# Instantiate learning model\n",
    "log_reg=LogisticRegression()"
   ]
  },
  {
   "cell_type": "code",
   "execution_count": 43,
   "id": "207b292a",
   "metadata": {},
   "outputs": [],
   "source": [
    "# Fitting the model\n",
    "log_reg_model=log_reg.fit(X_train,y_train)\n",
    "# Predicting the Test set results\n",
    "log_reg_pred=log_reg_model.predict(X_test)"
   ]
  },
  {
   "cell_type": "code",
   "execution_count": 44,
   "id": "f8db889f",
   "metadata": {},
   "outputs": [
    {
     "data": {
      "text/plain": [
       "array([[23081,     3],\n",
       "       [   87,    41]], dtype=int64)"
      ]
     },
     "execution_count": 44,
     "metadata": {},
     "output_type": "execute_result"
    }
   ],
   "source": [
    "# Confusion Matrix\n",
    "confusion_matrix(y_test,log_reg_pred)"
   ]
  },
  {
   "cell_type": "code",
   "execution_count": 45,
   "id": "08258267",
   "metadata": {},
   "outputs": [
    {
     "data": {
      "text/plain": [
       "0.996122695157677"
      ]
     },
     "execution_count": 45,
     "metadata": {},
     "output_type": "execute_result"
    }
   ],
   "source": [
    "# accuracy score\n",
    "accuracy_score(y_test,log_reg_pred)"
   ]
  },
  {
   "cell_type": "code",
   "execution_count": 46,
   "id": "dfbb60f5",
   "metadata": {},
   "outputs": [],
   "source": [
    "#precision score,recall score"
   ]
  },
  {
   "cell_type": "code",
   "execution_count": 47,
   "id": "50934964",
   "metadata": {},
   "outputs": [
    {
     "data": {
      "text/plain": [
       "0.9318181818181818"
      ]
     },
     "execution_count": 47,
     "metadata": {},
     "output_type": "execute_result"
    }
   ],
   "source": [
    "precision_score(y_test,log_reg_pred)"
   ]
  },
  {
   "cell_type": "code",
   "execution_count": 48,
   "id": "f6e09210",
   "metadata": {},
   "outputs": [
    {
     "data": {
      "text/plain": [
       "0.3203125"
      ]
     },
     "execution_count": 48,
     "metadata": {},
     "output_type": "execute_result"
    }
   ],
   "source": [
    "recall_score(y_test,log_reg_pred)"
   ]
  },
  {
   "cell_type": "markdown",
   "id": "0721fa70",
   "metadata": {},
   "source": [
    "## SVM after Scaling"
   ]
  },
  {
   "cell_type": "code",
   "execution_count": 50,
   "id": "d51e3a44",
   "metadata": {},
   "outputs": [],
   "source": [
    "# SVM with RBF kernel\n",
    "svm_clf=SVC(kernel='rbf')\n",
    "svm_model=svm_clf.fit(X_train,y_train)\n",
    "svm_pred=svm_model.predict(X_test)"
   ]
  },
  {
   "cell_type": "code",
   "execution_count": 51,
   "id": "a7ed01d4",
   "metadata": {},
   "outputs": [],
   "source": [
    "#Evaluating Predictions\n",
    "# Confusion Matrix"
   ]
  },
  {
   "cell_type": "code",
   "execution_count": 52,
   "id": "42b46498",
   "metadata": {},
   "outputs": [
    {
     "data": {
      "text/plain": [
       "array([[23079,     5],\n",
       "       [  114,    14]], dtype=int64)"
      ]
     },
     "execution_count": 52,
     "metadata": {},
     "output_type": "execute_result"
    }
   ],
   "source": [
    "confusion_matrix(y_test,svm_pred)"
   ]
  },
  {
   "cell_type": "code",
   "execution_count": 53,
   "id": "833b1acd",
   "metadata": {},
   "outputs": [
    {
     "data": {
      "text/plain": [
       "0.9948733413751508"
      ]
     },
     "execution_count": 53,
     "metadata": {},
     "output_type": "execute_result"
    }
   ],
   "source": [
    "# accuracy score\n",
    "accuracy_score(y_test,svm_pred)"
   ]
  },
  {
   "cell_type": "markdown",
   "id": "1e085874",
   "metadata": {},
   "source": [
    "## Decision Tree"
   ]
  },
  {
   "cell_type": "code",
   "execution_count": 54,
   "id": "6f12c0c2",
   "metadata": {},
   "outputs": [],
   "source": [
    "# Instantiate learning model\n",
    "dt_clf=DecisionTreeClassifier()\n",
    "# Fitting the model\n",
    "dt_clf=dt_clf.fit(X_train,y_train)\n",
    "# Predicting the Test set results\n",
    "y_pred_dt=dt_clf.predict(X_test)"
   ]
  },
  {
   "cell_type": "code",
   "execution_count": 55,
   "id": "a61165ea",
   "metadata": {},
   "outputs": [
    {
     "data": {
      "text/plain": [
       "array([[23001,    83],\n",
       "       [   82,    46]], dtype=int64)"
      ]
     },
     "execution_count": 55,
     "metadata": {},
     "output_type": "execute_result"
    }
   ],
   "source": [
    "# Confusion Matrix\n",
    "confusion_matrix(y_test,y_pred_dt)"
   ]
  },
  {
   "cell_type": "code",
   "execution_count": 56,
   "id": "34220e4d",
   "metadata": {},
   "outputs": [
    {
     "data": {
      "text/plain": [
       "0.9928916077890746"
      ]
     },
     "execution_count": 56,
     "metadata": {},
     "output_type": "execute_result"
    }
   ],
   "source": [
    "# Accuracy Score\n",
    "accuracy_score(y_test,y_pred_dt)"
   ]
  },
  {
   "cell_type": "markdown",
   "id": "22d7eb71",
   "metadata": {},
   "source": [
    "## Random forest"
   ]
  },
  {
   "cell_type": "code",
   "execution_count": 57,
   "id": "a9818332",
   "metadata": {},
   "outputs": [],
   "source": [
    "# Instantiate learning model\n",
    "rf_clf=RandomForestClassifier()\n",
    "# Fitting the model\n",
    "rf_clf=rf_clf.fit(X_train,y_train)\n",
    "# Predicting the Test set results\n",
    "y_pred_rf=rf_clf.predict(X_test)"
   ]
  },
  {
   "cell_type": "code",
   "execution_count": 58,
   "id": "1bd74724",
   "metadata": {},
   "outputs": [
    {
     "data": {
      "text/plain": [
       "array([[23071,    13],\n",
       "       [   83,    45]], dtype=int64)"
      ]
     },
     "execution_count": 58,
     "metadata": {},
     "output_type": "execute_result"
    }
   ],
   "source": [
    "# Confusion Matrix\n",
    "confusion_matrix(y_test,y_pred_rf)"
   ]
  },
  {
   "cell_type": "code",
   "execution_count": 59,
   "id": "681c9497",
   "metadata": {},
   "outputs": [
    {
     "data": {
      "text/plain": [
       "0.9958642081681889"
      ]
     },
     "execution_count": 59,
     "metadata": {},
     "output_type": "execute_result"
    }
   ],
   "source": [
    "# Accuracy Score\n",
    "accuracy_score(y_test,y_pred_rf)"
   ]
  },
  {
   "cell_type": "markdown",
   "id": "100d0ad9",
   "metadata": {},
   "source": [
    "After Scaling Accuracy improved for logistic regression."
   ]
  },
  {
   "cell_type": "markdown",
   "id": "58a6ff97",
   "metadata": {},
   "source": []
  }
 ],
 "metadata": {
  "kernelspec": {
   "display_name": "Python 3 (ipykernel)",
   "language": "python",
   "name": "python3"
  },
  "language_info": {
   "codemirror_mode": {
    "name": "ipython",
    "version": 3
   },
   "file_extension": ".py",
   "mimetype": "text/x-python",
   "name": "python",
   "nbconvert_exporter": "python",
   "pygments_lexer": "ipython3",
   "version": "3.9.12"
  }
 },
 "nbformat": 4,
 "nbformat_minor": 5
}
